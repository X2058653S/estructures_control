{
 "cells": [
  {
   "cell_type": "markdown",
   "id": "10ababef",
   "metadata": {},
   "source": [
    "## Exercici 1\n",
    "L'exercici consisteix a crear un programa que et classifiqui una variable numèrica \n",
    "en funció de l’escala Suspès/Aprovat/Notable/Excel·lent."
   ]
  },
  {
   "cell_type": "code",
   "execution_count": 61,
   "id": "5187d6ae",
   "metadata": {},
   "outputs": [
    {
     "name": "stdout",
     "output_type": "stream",
     "text": [
      "entra la variable: 3.45\n",
      "suspès\n"
     ]
    }
   ],
   "source": [
    "variable=float(input('entra la variable: '))\n",
    "                     \n",
    "if variable<5:\n",
    "    print('suspès')\n",
    "elif variable>=5 and variable<7:\n",
    "    print('aprovat') \n",
    "elif variable>=7 and variable<9:\n",
    "    print('notable')\n",
    "else: print ('excellent')   "
   ]
  },
  {
   "cell_type": "markdown",
   "id": "dfa5d699",
   "metadata": {},
   "source": [
    "## Exercici 2\n",
    "Utilitzant el següent tutorial crea un programa que et pregunti dos números. \n",
    "T’ha de mostrar un missatge dient si el primer és més gran, el segon és més gran o són iguals.\n"
   ]
  },
  {
   "cell_type": "code",
   "execution_count": 60,
   "id": "8624bc85",
   "metadata": {},
   "outputs": [
    {
     "name": "stdout",
     "output_type": "stream",
     "text": [
      "entra x: 23\n",
      "entra y: 5\n",
      "x és més gran que y\n"
     ]
    }
   ],
   "source": [
    "\n",
    "x=float(input('entra x: '))\n",
    "y=float(input('entra y: '))\n",
    "\n",
    "if x>y:\n",
    "    print('x és més gran que y')\n",
    "elif x<y:\n",
    "    print('y es més gran que x')\n",
    "else:\n",
    "    print('són iguals')"
   ]
  },
  {
   "cell_type": "markdown",
   "id": "6627b38c",
   "metadata": {},
   "source": [
    "## Exercici 3\n",
    "Crea un programa que et pregunti el teu nom, i et demani un número. \n",
    "Si el número és 0, hauria de mostrar un missatge d’error. \n",
    "En cas contrari, hauria de mostrar el nom repetit tants cops com indiqui el número. \n",
    "Per exemple, “Joan Joan Joan”."
   ]
  },
  {
   "cell_type": "code",
   "execution_count": 59,
   "id": "661360f8",
   "metadata": {},
   "outputs": [
    {
     "name": "stdout",
     "output_type": "stream",
     "text": [
      "entre tu nombre: Isabelle\n",
      "entre un número enter: 3\n",
      "Isabelle Isabelle Isabelle \n"
     ]
    }
   ],
   "source": [
    "nom=input('entre tu nombre: ')\n",
    "número=int(input('entre un número enter: '))\n",
    "\n",
    "if número>0:\n",
    "    print((nom+' ' )*número)\n",
    "else:\n",
    "    print('el número entrat tiene que ser superior a 0')\n"
   ]
  },
  {
   "cell_type": "markdown",
   "id": "d4cebfbd",
   "metadata": {},
   "source": [
    "## Exercici 4\n",
    "Creem un programa que donada una llista qualsevol, ens digui si és simètrica o no. \n",
    "Si ho és, que ens digui quants elements té."
   ]
  },
  {
   "cell_type": "code",
   "execution_count": 58,
   "id": "e2527585",
   "metadata": {},
   "outputs": [
    {
     "name": "stdout",
     "output_type": "stream",
     "text": [
      "lista original : [16, 4, 5, 19, 10, 2, 3]\n",
      "lista 1ª : [16, 4, 5]\n",
      "lista 2ª : [10, 2, 3]\n",
      "la lista original no es simétrica\n"
     ]
    }
   ],
   "source": [
    "import random\n",
    "\n",
    "#Creamos una lista random\n",
    "\n",
    "list=(random.sample(range(20),7))\n",
    "print('lista original :',list)\n",
    "\n",
    "#Creamos dos listas separando la lista original por la mitad, \n",
    "#en función de si su cantidad de elementos es par o impar:\n",
    "\n",
    "n=len(list)\n",
    "m=(len(list)//2)\n",
    "\n",
    "if n%2>0:\n",
    "    list1=list[:m]\n",
    "    list2=list[(m+1):]\n",
    "else:\n",
    "    list1=list[:m]\n",
    "    list2=list[m:]\n",
    "\n",
    "list3=list2[::-1]\n",
    "    \n",
    "print('lista 1ª :', list1)\n",
    "print('lista 2ª :', list2)\n",
    "\n",
    "#Comparamos las 2 listas obtenidas:\n",
    "\n",
    "if list1==list3:\n",
    "    print('la lista original es simétrica i té ',n,' elements')\n",
    "else:print('la lista original no es simétrica') \n",
    "\n"
   ]
  },
  {
   "cell_type": "markdown",
   "id": "caad3623",
   "metadata": {},
   "source": [
    "Vamos a crear un caso en que la lista si es simétrica para verificar la validez del programa:"
   ]
  },
  {
   "cell_type": "code",
   "execution_count": 20,
   "id": "afd7312a",
   "metadata": {},
   "outputs": [
    {
     "name": "stdout",
     "output_type": "stream",
     "text": [
      "lista original : (1, 2, 3, 4, 7, 4, 3, 2, 1)\n",
      "lista 1ª : (1, 2, 3, 4)\n",
      "lista 2ª : (4, 3, 2, 1)\n",
      "la lista original es simétrica i té  9  elements\n"
     ]
    }
   ],
   "source": [
    "\n",
    "list=(1,2,3,4,7,4,3,2,1)\n",
    "print('lista original :',list)\n",
    "\n",
    "n=len(list)\n",
    "m=(len(list)//2)\n",
    "\n",
    "if n%2>0:\n",
    "    list1=list[:m]\n",
    "    list2=list[(m+1):]\n",
    "else:\n",
    "    list1=list[:m]\n",
    "    list2=list[m:]\n",
    "    \n",
    "list3=list2[::-1] \n",
    "\n",
    "print('lista 1ª :', list1)\n",
    "print('lista 2ª :', list2)   \n",
    "\n",
    "if list1==list3:\n",
    "    print('la lista original es simétrica i té ',n,' elements')\n",
    "else:print('la lista original no es simétrica') \n"
   ]
  },
  {
   "cell_type": "markdown",
   "id": "4f40b855",
   "metadata": {},
   "source": [
    "## Exercici 5\n",
    "Creem un programa que donada una llista, ens digui quants números coincideixen amb la seva posició. \n"
   ]
  },
  {
   "cell_type": "code",
   "execution_count": 55,
   "id": "fd0e92e6",
   "metadata": {},
   "outputs": [
    {
     "name": "stdout",
     "output_type": "stream",
     "text": [
      "mi lista es: [12, 16, 2, 17, 1, 5, 0, 15, 4, 10, 19, 8, 18, 9, 14, 13, 6, 7, 11, 3]\n",
      "los números que coinciden con su posición son: [2, 5, 14]\n"
     ]
    }
   ],
   "source": [
    "import random\n",
    "\n",
    "llista = (random.sample(range(20),20))\n",
    "print('mi lista es:',llista)\n",
    "\n",
    "coincidencia=[]\n",
    "\n",
    "for index, l in enumerate(llista):\n",
    "    if index==l:\n",
    "        coincidencia.append(l)\n",
    "print('los números que coinciden con su posición son:',coincidencia)"
   ]
  }
 ],
 "metadata": {
  "kernelspec": {
   "display_name": "Python 3 (ipykernel)",
   "language": "python",
   "name": "python3"
  },
  "language_info": {
   "codemirror_mode": {
    "name": "ipython",
    "version": 3
   },
   "file_extension": ".py",
   "mimetype": "text/x-python",
   "name": "python",
   "nbconvert_exporter": "python",
   "pygments_lexer": "ipython3",
   "version": "3.9.13"
  }
 },
 "nbformat": 4,
 "nbformat_minor": 5
}
